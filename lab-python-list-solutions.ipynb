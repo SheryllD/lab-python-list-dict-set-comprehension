{
 "cells": [
  {
   "cell_type": "code",
   "execution_count": null,
   "metadata": {},
   "outputs": [],
   "source": [
    "# Solutions of Lab: python-list-comprehension"
   ]
  },
  {
   "cell_type": "code",
   "execution_count": 6,
   "metadata": {},
   "outputs": [
    {
     "name": "stdout",
     "output_type": "stream",
     "text": [
      "We have the follow inventory in the shop:  {'t-shirt': 7, 'mug': 7, 'hat': 7, 'book': 7, 'keychain': 7}\n"
     ]
    }
   ],
   "source": [
    "# Review your code from the previous exercise and identify areas where you can apply comprehension to simplify and streamline your code.\n",
    "\n",
    "# This is a function to initialize the inventory. \n",
    "initialize_inventory = lambda products: {product: int(input(f\"Please enter the amount for {product}: \")) for product in products}\n",
    "\n",
    "# This is my list of products. \n",
    "products = [\"t-shirt\", \"mug\", \"hat\", \"book\", \"keychain\"]\n",
    "\n",
    "# Here I am creating the inventory of my shop\n",
    "inventory = initialize_inventory (products)\n",
    "print(\"We have the follow inventory in the shop: \", inventory)"
   ]
  },
  {
   "cell_type": "code",
   "execution_count": 7,
   "metadata": {},
   "outputs": [
    {
     "name": "stdout",
     "output_type": "stream",
     "text": [
      "What products would you like to order? We have the following: t-shirt, mug, hat, book, keychain\n",
      "Added 5 x mug to your order. Item cost: $84.95\n",
      "What products would you like to order? We have the following: t-shirt, mug, hat, book, keychain\n",
      "Added 6 x keychain to your order. Item cost: $29.94\n",
      "What products would you like to order? We have the following: t-shirt, mug, hat, book, keychain\n",
      "Sorry, we only have 7 of book.\n",
      "Added 6 x book to your order. Item cost: $174.00\n",
      "Your current order is:  {'mug': 5, 'keychain': 6, 'book': 6}\n",
      "5 x mug = 16.99 each\n",
      "6 x keychain = 4.99 each\n",
      "6 x book = 29.00 each\n",
      "Total cost of your order: $288.89\n",
      "The inventory stock is now:  {'t-shirt': 7, 'mug': 2, 'hat': 7, 'book': 1, 'keychain': 1}\n",
      "\n",
      "The updated inventory stock is: {'t-shirt': 7, 'mug': 2, 'hat': 7, 'book': 1, 'keychain': 1}\n"
     ]
    }
   ],
   "source": [
    "# Modify the function get_customer_orders \n",
    "# 2. Modify the function get_customer_orders so it prompts the user to enter the number of customer orders and gathers the product names using a loop and user input. Use comprehension.\n",
    "# 3. Add a new function to calculate the total price of the customer order. For each product in customer_orders, prompt the user to enter the price of that product. Note: assume that the user can only have 1 unit of each product.\n",
    "# 4. Modify the update_inventory function to remove the product from the inventory if its quantity becomes zero after fulfilling the customer orders. Use comprehension to filter out the products with a quantity of zero from the inventory.\n",
    "# 5. Print the total price of the customer order.\n",
    "\n",
    "# Here I am already defining the prices per product.\n",
    "product_prices = {\n",
    "    \"t-shirt\": 15.99, \n",
    "    \"mug\": 16.99, \n",
    "    \"hat\": 10.00, \n",
    "    \"book\": 29.00, \n",
    "    \"keychain\": 4.99\n",
    "}\n",
    "\n",
    "# This is a function to get customer orders. \n",
    "def get_customer_orders(inventory, product_prices):\n",
    "    customer_orders = {} # Here I initialize a local dictionary to store the order.\n",
    "    total_cost = 0 # I made a variable to track the total of the cost. \n",
    "    \n",
    "    while True: \n",
    "        print(f\"What products would you like to order? We have the following: {', '.join(inventory.keys())}\")\n",
    "        customer_order_list = [product.lower() for product in input(\"Enter the product names seperated by spaces: \").split()]\n",
    "\n",
    "        for product in customer_order_list: \n",
    "            if product not in inventory: \n",
    "                print(f\"We don't have that {product} in our inventory.\")\n",
    "                continue\n",
    "\n",
    "            while True: \n",
    "                try: \n",
    "                    customer_product_order_quantity = int(input(f\"How many of {product} do you want to buy?\"))\n",
    "                    if customer_product_order_quantity > inventory[product]: \n",
    "                        print(f\"Sorry, we only have {inventory[product]} of {product}.\")\n",
    "                    else: \n",
    "                        # I am here adding the orders in customer orders\n",
    "                        customer_orders[product] = customer_product_order_quantity \n",
    "                        # I am calculating here the price of the total order\n",
    "                        item_total = customer_product_order_quantity * product_prices[product]\n",
    "                        total_cost += item_total\n",
    "                        print(f\"Added {customer_product_order_quantity} x {product} to your order. Item cost: ${item_total:.2f}\")\n",
    "                        break\n",
    "                except ValueError: \n",
    "                    print(\"Please enter a valid number for the order.\")\n",
    "\n",
    "        choice = input(\"Do you want to order more? (Yes/No): \").lower()\n",
    "        if choice == \"no\": \n",
    "            break  # Getting out of the loop\n",
    "\n",
    "    return customer_orders, total_cost\n",
    "\n",
    "# Here I am creating  function to update the inventory after purchase\n",
    "\n",
    "def update_inventory(inventory, customer_orders):\n",
    "    for product, quantity in customer_orders.items(): \n",
    "        inventory[product] -= quantity # \n",
    "    print(\"The inventory stock is now: \", inventory) # Displaying here the updated inventory of the store. \n",
    "\n",
    "    # Removing products with 0 stock\n",
    "    inventory = {product: quantity for product, quantity in inventory.items() if quantity > 0}\n",
    "\n",
    "    print(\"\\nThe updated inventory stock is:\", inventory)  # Displaying updated inventory\n",
    "\n",
    "# Here I am getting the customer order and total cost\n",
    "customer_orders, total_cost = get_customer_orders(inventory, product_prices) \n",
    "\n",
    "# Displaying a short order summary\n",
    "print(\"Your current order is: \", customer_orders)  \n",
    "\n",
    "for product, quantity in customer_orders.items(): \n",
    "    print(f\"{quantity} x {product} = {product_prices[product]:.2f} each\")\n",
    "\n",
    "print(f\"Total cost of your order: ${total_cost:.2f}\")\n",
    "\n",
    "# Here is the update of the inventory after the purchase. \n",
    "update_inventory(inventory, customer_orders)"
   ]
  }
 ],
 "metadata": {
  "kernelspec": {
   "display_name": "base",
   "language": "python",
   "name": "python3"
  },
  "language_info": {
   "codemirror_mode": {
    "name": "ipython",
    "version": 3
   },
   "file_extension": ".py",
   "mimetype": "text/x-python",
   "name": "python",
   "nbconvert_exporter": "python",
   "pygments_lexer": "ipython3",
   "version": "3.12.7"
  }
 },
 "nbformat": 4,
 "nbformat_minor": 2
}
