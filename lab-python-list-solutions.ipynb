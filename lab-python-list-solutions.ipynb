{
 "cells": [
  {
   "cell_type": "code",
   "execution_count": null,
   "metadata": {},
   "outputs": [],
   "source": [
    "# Solutions of Lab: python-list-comprehension"
   ]
  },
  {
   "cell_type": "code",
   "execution_count": 10,
   "metadata": {},
   "outputs": [
    {
     "name": "stdout",
     "output_type": "stream",
     "text": [
      "{'t-shirt': 7, 'mug': 7, 'hat': 7, 'book': 7, 'keychain': 7}\n"
     ]
    }
   ],
   "source": [
    "# Review your code from the previous exercise and identify areas where you can apply comprehension to simplify and streamline your code.\n",
    "\n",
    "initialize_inventory = lambda products: {product: int(input(f\"Please enter the amount for {product}: \")) for product in products}\n",
    "\n",
    "products = [\"t-shirt\", \"mug\", \"hat\", \"book\", \"keychain\"]\n",
    "inventory = initialize_inventory (products)\n",
    "\n",
    "print(inventory)"
   ]
  },
  {
   "cell_type": "code",
   "execution_count": 16,
   "metadata": {},
   "outputs": [
    {
     "ename": "TypeError",
     "evalue": "'list' object is not callable",
     "output_type": "error",
     "traceback": [
      "\u001b[0;31m---------------------------------------------------------------------------\u001b[0m",
      "\u001b[0;31mTypeError\u001b[0m                                 Traceback (most recent call last)",
      "Cell \u001b[0;32mIn[16], line 15\u001b[0m\n\u001b[1;32m     12\u001b[0m     orders \u001b[38;5;241m=\u001b[39m [\u001b[38;5;28minput\u001b[39m(\u001b[38;5;124mf\u001b[39m\u001b[38;5;124m\"\u001b[39m\u001b[38;5;124mEnter product name for order \u001b[39m\u001b[38;5;132;01m{\u001b[39;00mproduct\u001b[38;5;241m+\u001b[39m\u001b[38;5;241m1\u001b[39m\u001b[38;5;132;01m}\u001b[39;00m\u001b[38;5;124m: \u001b[39m\u001b[38;5;124m\"\u001b[39m) \u001b[38;5;28;01mfor\u001b[39;00m product \u001b[38;5;129;01min\u001b[39;00m products (amount_orders)]\n\u001b[1;32m     13\u001b[0m     \u001b[38;5;28;01mreturn\u001b[39;00m orders\n\u001b[0;32m---> 15\u001b[0m orders \u001b[38;5;241m=\u001b[39m get_customer_orders()\n\u001b[1;32m     16\u001b[0m \u001b[38;5;28mprint\u001b[39m(orders)\n",
      "Cell \u001b[0;32mIn[16], line 12\u001b[0m, in \u001b[0;36mget_customer_orders\u001b[0;34m()\u001b[0m\n\u001b[1;32m     10\u001b[0m \u001b[38;5;28;01mdef\u001b[39;00m \u001b[38;5;21mget_customer_orders\u001b[39m():\n\u001b[1;32m     11\u001b[0m     amount_orders \u001b[38;5;241m=\u001b[39m \u001b[38;5;28mint\u001b[39m(\u001b[38;5;28minput\u001b[39m(\u001b[38;5;124m\"\u001b[39m\u001b[38;5;124mEnter the number of customer orders: \u001b[39m\u001b[38;5;124m\"\u001b[39m))\n\u001b[0;32m---> 12\u001b[0m     orders \u001b[38;5;241m=\u001b[39m [\u001b[38;5;28minput\u001b[39m(\u001b[38;5;124mf\u001b[39m\u001b[38;5;124m\"\u001b[39m\u001b[38;5;124mEnter product name for order \u001b[39m\u001b[38;5;132;01m{\u001b[39;00mproduct\u001b[38;5;241m+\u001b[39m\u001b[38;5;241m1\u001b[39m\u001b[38;5;132;01m}\u001b[39;00m\u001b[38;5;124m: \u001b[39m\u001b[38;5;124m\"\u001b[39m) \u001b[38;5;28;01mfor\u001b[39;00m product \u001b[38;5;129;01min\u001b[39;00m products (amount_orders)]\n\u001b[1;32m     13\u001b[0m     \u001b[38;5;28;01mreturn\u001b[39;00m orders\n",
      "\u001b[0;31mTypeError\u001b[0m: 'list' object is not callable"
     ]
    }
   ],
   "source": [
    "# Modify the function get_customer_orders \n",
    "\n",
    "#get_customer_orders = lambda amount_orders: {\n",
    "#    input(f\"Enter product name for order {product+1}: \"): int(input(\"Enter quantity: \"))\n",
    "#for product in inventory(amount_orders)}\n",
    "\n",
    "#amount_orders = int(input(\"Enter the number of customer orders: \")) \n",
    "#print(\"Customer orders:\", amount_orders)\n",
    "\n",
    "def get_customer_orders():\n",
    "    customer_orders = set()\n",
    "\n",
    "    response = int(input(\"Do you want to order something? (Yes/No)\"))\n",
    "    if response.lower() == \"yes\": \n",
    "        response = input(\"What would you like to order?: \")\n",
    "    amount_orders = int(input(\"Enter the number of customer orders: \"))\n",
    "    orders = [input(f\"Enter product name for order {product+1}: \") for product in products (amount_orders)]\n",
    "    return orders\n",
    "\n",
    "orders = get_customer_orders()\n",
    "print(orders)\n"
   ]
  },
  {
   "cell_type": "code",
   "execution_count": 15,
   "metadata": {},
   "outputs": [
    {
     "ename": "TypeError",
     "evalue": "'list' object is not callable",
     "output_type": "error",
     "traceback": [
      "\u001b[0;31m---------------------------------------------------------------------------\u001b[0m",
      "\u001b[0;31mTypeError\u001b[0m                                 Traceback (most recent call last)",
      "Cell \u001b[0;32mIn[15], line 1\u001b[0m\n\u001b[0;32m----> 1\u001b[0m orders \u001b[38;5;241m=\u001b[39m get_customer_orders()\n\u001b[1;32m      2\u001b[0m \u001b[38;5;28mprint\u001b[39m(orders)\n",
      "Cell \u001b[0;32mIn[14], line 13\u001b[0m, in \u001b[0;36mget_customer_orders\u001b[0;34m()\u001b[0m\n\u001b[1;32m     11\u001b[0m \u001b[38;5;28;01mdef\u001b[39;00m \u001b[38;5;21mget_customer_orders\u001b[39m():\n\u001b[1;32m     12\u001b[0m     amount_orders \u001b[38;5;241m=\u001b[39m \u001b[38;5;28mint\u001b[39m(\u001b[38;5;28minput\u001b[39m(\u001b[38;5;124m\"\u001b[39m\u001b[38;5;124mEnter the number of customer orders: \u001b[39m\u001b[38;5;124m\"\u001b[39m))\n\u001b[0;32m---> 13\u001b[0m     orders \u001b[38;5;241m=\u001b[39m [\u001b[38;5;28minput\u001b[39m(\u001b[38;5;124mf\u001b[39m\u001b[38;5;124m\"\u001b[39m\u001b[38;5;124mEnter product name for order \u001b[39m\u001b[38;5;132;01m{\u001b[39;00mproduct\u001b[38;5;241m+\u001b[39m\u001b[38;5;241m1\u001b[39m\u001b[38;5;132;01m}\u001b[39;00m\u001b[38;5;124m: \u001b[39m\u001b[38;5;124m\"\u001b[39m) \u001b[38;5;28;01mfor\u001b[39;00m product \u001b[38;5;129;01min\u001b[39;00m products (amount_orders)]\n\u001b[1;32m     14\u001b[0m     \u001b[38;5;28;01mreturn\u001b[39;00m orders\n",
      "\u001b[0;31mTypeError\u001b[0m: 'list' object is not callable"
     ]
    }
   ],
   "source": []
  },
  {
   "cell_type": "code",
   "execution_count": 9,
   "metadata": {},
   "outputs": [],
   "source": [
    "# 3. Add new function calculate_total_price \n",
    "\n",
    "def calculate_total_price(customers_orders): \n",
    "    total_price = sum([float(input(f\"Enter the price for {product}: \")) for product in customers_orders])\n",
    "    return total_price\n"
   ]
  },
  {
   "cell_type": "code",
   "execution_count": null,
   "metadata": {},
   "outputs": [],
   "source": [
    "customer_orders = get_customer_orders()\n",
    "total_price = calculate_total_price(customer_orders)\n",
    "print(f\"The total price is: {total_price}\")"
   ]
  },
  {
   "cell_type": "code",
   "execution_count": null,
   "metadata": {},
   "outputs": [],
   "source": [
    "# 2. Modify the function get_customer_orders so it prompts the user to enter the number of customer orders and gathers the product names using a loop and user input. Use comprehension.\n",
    "\n"
   ]
  },
  {
   "cell_type": "code",
   "execution_count": null,
   "metadata": {},
   "outputs": [],
   "source": [
    "# 3. Add a new function to calculate the total price of the customer order. For each product in customer_orders, prompt the user to enter the price of that product. Use comprehension to calculate the total price. Note: assume that the user can only have 1 unit of each product."
   ]
  },
  {
   "cell_type": "code",
   "execution_count": null,
   "metadata": {},
   "outputs": [],
   "source": [
    "# 4. Modify the update_inventory function to remove the product from the inventory if its quantity becomes zero after fulfilling the customer orders. Use comprehension to filter out the products with a quantity of zero from the inventory."
   ]
  },
  {
   "cell_type": "code",
   "execution_count": null,
   "metadata": {},
   "outputs": [],
   "source": [
    "# 5. Print the total price of the customer order."
   ]
  },
  {
   "cell_type": "code",
   "execution_count": null,
   "metadata": {},
   "outputs": [],
   "source": []
  },
  {
   "cell_type": "code",
   "execution_count": null,
   "metadata": {},
   "outputs": [],
   "source": []
  },
  {
   "cell_type": "code",
   "execution_count": 3,
   "metadata": {},
   "outputs": [],
   "source": [
    "def add_price ():\n",
    "    return {product: float(input(f\"Insert price for {product}:\")) for product in order}\n",
    "\n",
    "#for product in order: \n",
    "#    price[product] = float(input(f\"Insert price for {product}:\"))"
   ]
  },
  {
   "cell_type": "code",
   "execution_count": 4,
   "metadata": {},
   "outputs": [],
   "source": [
    "lst = []\n",
    "\n",
    "for i in range (10):\n",
    "    if i % 2 == 0: \n",
    "        lst.append(\"even\")\n",
    "    else:\n",
    "        lst.append(\"odd\")\n",
    "        "
   ]
  },
  {
   "cell_type": "code",
   "execution_count": null,
   "metadata": {},
   "outputs": [],
   "source": [
    "lst - [\"even\" if i % 2 == 0 else \"odd\" dor i in range(10)]"
   ]
  }
 ],
 "metadata": {
  "kernelspec": {
   "display_name": "base",
   "language": "python",
   "name": "python3"
  },
  "language_info": {
   "codemirror_mode": {
    "name": "ipython",
    "version": 3
   },
   "file_extension": ".py",
   "mimetype": "text/x-python",
   "name": "python",
   "nbconvert_exporter": "python",
   "pygments_lexer": "ipython3",
   "version": "3.12.7"
  }
 },
 "nbformat": 4,
 "nbformat_minor": 2
}
